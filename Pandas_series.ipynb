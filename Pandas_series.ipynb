{
 "cells": [
  {
   "cell_type": "code",
   "execution_count": 2,
   "metadata": {},
   "outputs": [],
   "source": [
    "import pandas as pd\n",
    "import numpy as np"
   ]
  },
  {
   "cell_type": "code",
   "execution_count": 4,
   "metadata": {},
   "outputs": [],
   "source": [
    "# population in millions of 7 countries\n",
    "C_7_pop = pd.Series([35.467, 63.951, 80.94, 60.665, 127.061, 64.511, 318.523]) "
   ]
  },
  {
   "cell_type": "code",
   "execution_count": 5,
   "metadata": {},
   "outputs": [
    {
     "data": {
      "text/plain": [
       "0     35.467\n",
       "1     63.951\n",
       "2     80.940\n",
       "3     60.665\n",
       "4    127.061\n",
       "5     64.511\n",
       "6    318.523\n",
       "dtype: float64"
      ]
     },
     "execution_count": 5,
     "metadata": {},
     "output_type": "execute_result"
    }
   ],
   "source": [
    "C_7_pop"
   ]
  },
  {
   "cell_type": "code",
   "execution_count": 6,
   "metadata": {},
   "outputs": [],
   "source": [
    "C_7_pop.name = \"Population of 7 countries\""
   ]
  },
  {
   "cell_type": "code",
   "execution_count": 7,
   "metadata": {},
   "outputs": [
    {
     "data": {
      "text/plain": [
       "0     35.467\n",
       "1     63.951\n",
       "2     80.940\n",
       "3     60.665\n",
       "4    127.061\n",
       "5     64.511\n",
       "6    318.523\n",
       "Name: Population of 7 countries, dtype: float64"
      ]
     },
     "execution_count": 7,
     "metadata": {},
     "output_type": "execute_result"
    }
   ],
   "source": [
    "C_7_pop"
   ]
  },
  {
   "cell_type": "markdown",
   "metadata": {},
   "source": [
    "## Indexing "
   ]
  },
  {
   "cell_type": "code",
   "execution_count": 8,
   "metadata": {},
   "outputs": [],
   "source": [
    "C_7_pop.index = [\"Andorra\", \"Austria\", \"Belgium\", \"Cyprus\", \"Estonia\", \"Finland\", \"Germany\"]"
   ]
  },
  {
   "cell_type": "code",
   "execution_count": 9,
   "metadata": {},
   "outputs": [
    {
     "data": {
      "text/plain": [
       "Andorra     35.467\n",
       "Austria     63.951\n",
       "Belgium     80.940\n",
       "Cyprus      60.665\n",
       "Estonia    127.061\n",
       "Finland     64.511\n",
       "Germany    318.523\n",
       "Name: Population of 7 countries, dtype: float64"
      ]
     },
     "execution_count": 9,
     "metadata": {},
     "output_type": "execute_result"
    }
   ],
   "source": [
    "C_7_pop"
   ]
  },
  {
   "cell_type": "code",
   "execution_count": 10,
   "metadata": {},
   "outputs": [
    {
     "data": {
      "text/plain": [
       "Andorra     35.467\n",
       "Austria     63.951\n",
       "Belgium     80.940\n",
       "Cyprus      60.665\n",
       "Estonia    127.061\n",
       "Finland     64.511\n",
       "Germany    318.523\n",
       "dtype: float64"
      ]
     },
     "execution_count": 10,
     "metadata": {},
     "output_type": "execute_result"
    }
   ],
   "source": [
    "pd.Series({\n",
    "    \"Andorra\": 35.467, \n",
    "    \"Austria\": 63.951, \n",
    "    \"Belgium\": 80.94, \n",
    "    \"Cyprus\": 60.665, \n",
    "    \"Estonia\": 127.061, \n",
    "    \"Finland\": 64.511, \n",
    "    \"Germany\": 318.523})"
   ]
  },
  {
   "cell_type": "code",
   "execution_count": 11,
   "metadata": {},
   "outputs": [
    {
     "data": {
      "text/plain": [
       "Estonia    127.061\n",
       "Finland     64.511\n",
       "Germany    318.523\n",
       "Name: Population of 7 countries, dtype: float64"
      ]
     },
     "execution_count": 11,
     "metadata": {},
     "output_type": "execute_result"
    }
   ],
   "source": [
    "pd.Series(C_7_pop, index=[\"Estonia\", \"Finland\", \"Germany\"])"
   ]
  },
  {
   "cell_type": "code",
   "execution_count": 12,
   "metadata": {},
   "outputs": [
    {
     "data": {
      "text/plain": [
       "Estonia    127.061\n",
       "Finland     64.511\n",
       "Germany    318.523\n",
       "Name: Population of 7 countries, dtype: float64"
      ]
     },
     "execution_count": 12,
     "metadata": {},
     "output_type": "execute_result"
    }
   ],
   "source": [
    "C_7_pop[[\"Estonia\", \"Finland\", \"Germany\"]]"
   ]
  },
  {
   "cell_type": "code",
   "execution_count": 13,
   "metadata": {},
   "outputs": [
    {
     "data": {
      "text/plain": [
       "Andorra     35.467\n",
       "Austria     63.951\n",
       "Germany    318.523\n",
       "Name: Population of 7 countries, dtype: float64"
      ]
     },
     "execution_count": 13,
     "metadata": {},
     "output_type": "execute_result"
    }
   ],
   "source": [
    "C_7_pop.iloc[[0, 1, 6]]"
   ]
  },
  {
   "cell_type": "markdown",
   "metadata": {},
   "source": [
    "## Conditional Selection (Boolean Arrays)"
   ]
  },
  {
   "cell_type": "markdown",
   "metadata": {},
   "source": [
    " * In pandas its called Booleans series \n",
    " * Works same as in Numpy "
   ]
  },
  {
   "cell_type": "code",
   "execution_count": 14,
   "metadata": {},
   "outputs": [
    {
     "data": {
      "text/plain": [
       "Andorra     35.467\n",
       "Austria     63.951\n",
       "Belgium     80.940\n",
       "Cyprus      60.665\n",
       "Estonia    127.061\n",
       "Finland     64.511\n",
       "Germany    318.523\n",
       "Name: Population of 7 countries, dtype: float64"
      ]
     },
     "execution_count": 14,
     "metadata": {},
     "output_type": "execute_result"
    }
   ],
   "source": [
    "C_7_pop"
   ]
  },
  {
   "cell_type": "code",
   "execution_count": 15,
   "metadata": {},
   "outputs": [
    {
     "data": {
      "text/plain": [
       "Andorra    False\n",
       "Austria    False\n",
       "Belgium    False\n",
       "Cyprus     False\n",
       "Estonia     True\n",
       "Finland    False\n",
       "Germany     True\n",
       "Name: Population of 7 countries, dtype: bool"
      ]
     },
     "execution_count": 15,
     "metadata": {},
     "output_type": "execute_result"
    }
   ],
   "source": [
    "C_7_pop > 100"
   ]
  },
  {
   "cell_type": "code",
   "execution_count": 16,
   "metadata": {},
   "outputs": [
    {
     "data": {
      "text/plain": [
       "Estonia    127.061\n",
       "Germany    318.523\n",
       "Name: Population of 7 countries, dtype: float64"
      ]
     },
     "execution_count": 16,
     "metadata": {},
     "output_type": "execute_result"
    }
   ],
   "source": [
    "C_7_pop[C_7_pop > 100]"
   ]
  },
  {
   "cell_type": "code",
   "execution_count": 17,
   "metadata": {},
   "outputs": [
    {
     "data": {
      "text/plain": [
       "np.float64(107.30257142857144)"
      ]
     },
     "execution_count": 17,
     "metadata": {},
     "output_type": "execute_result"
    }
   ],
   "source": [
    "C_7_pop.mean()"
   ]
  },
  {
   "cell_type": "code",
   "execution_count": 18,
   "metadata": {},
   "outputs": [
    {
     "data": {
      "text/plain": [
       "Estonia    127.061\n",
       "Germany    318.523\n",
       "Name: Population of 7 countries, dtype: float64"
      ]
     },
     "execution_count": 18,
     "metadata": {},
     "output_type": "execute_result"
    }
   ],
   "source": [
    "C_7_pop[C_7_pop > C_7_pop.mean()]"
   ]
  },
  {
   "cell_type": "code",
   "execution_count": 19,
   "metadata": {},
   "outputs": [
    {
     "data": {
      "text/plain": [
       "np.float64(97.24996987121581)"
      ]
     },
     "execution_count": 19,
     "metadata": {},
     "output_type": "execute_result"
    }
   ],
   "source": [
    "C_7_pop.std()"
   ]
  },
  {
   "cell_type": "code",
   "execution_count": 20,
   "metadata": {},
   "outputs": [
    {
     "data": {
      "text/plain": [
       "Andorra     35.467\n",
       "Austria     63.951\n",
       "Belgium     80.940\n",
       "Cyprus      60.665\n",
       "Estonia    127.061\n",
       "Finland     64.511\n",
       "Name: Population of 7 countries, dtype: float64"
      ]
     },
     "execution_count": 20,
     "metadata": {},
     "output_type": "execute_result"
    }
   ],
   "source": [
    "C_7_pop[(C_7_pop > C_7_pop.mean() - C_7_pop.std()) & (C_7_pop < C_7_pop.mean() + C_7_pop.std())]"
   ]
  },
  {
   "cell_type": "markdown",
   "metadata": {},
   "source": [
    "## Operations and Methods\n",
    "* Series also support vectorized operations and aggregation function\n",
    "in Numpy"
   ]
  },
  {
   "cell_type": "code",
   "execution_count": 21,
   "metadata": {},
   "outputs": [
    {
     "data": {
      "text/plain": [
       "Andorra     35.467\n",
       "Austria     63.951\n",
       "Belgium     80.940\n",
       "Cyprus      60.665\n",
       "Estonia    127.061\n",
       "Finland     64.511\n",
       "Germany    318.523\n",
       "Name: Population of 7 countries, dtype: float64"
      ]
     },
     "execution_count": 21,
     "metadata": {},
     "output_type": "execute_result"
    }
   ],
   "source": [
    "C_7_pop"
   ]
  },
  {
   "cell_type": "code",
   "execution_count": 22,
   "metadata": {},
   "outputs": [
    {
     "data": {
      "text/plain": [
       "Andorra     3546700.0\n",
       "Austria     6395100.0\n",
       "Belgium     8094000.0\n",
       "Cyprus      6066500.0\n",
       "Estonia    12706100.0\n",
       "Finland     6451100.0\n",
       "Germany    31852300.0\n",
       "Name: Population of 7 countries, dtype: float64"
      ]
     },
     "execution_count": 22,
     "metadata": {},
     "output_type": "execute_result"
    }
   ],
   "source": [
    "C_7_pop * 100000"
   ]
  },
  {
   "cell_type": "code",
   "execution_count": 23,
   "metadata": {},
   "outputs": [
    {
     "data": {
      "text/plain": [
       "np.float64(107.30257142857144)"
      ]
     },
     "execution_count": 23,
     "metadata": {},
     "output_type": "execute_result"
    }
   ],
   "source": [
    "C_7_pop.mean() "
   ]
  },
  {
   "cell_type": "code",
   "execution_count": 24,
   "metadata": {},
   "outputs": [
    {
     "data": {
      "text/plain": [
       "Andorra    3.568603\n",
       "Austria    4.158117\n",
       "Belgium    4.393708\n",
       "Cyprus     4.105367\n",
       "Estonia    4.844667\n",
       "Finland    4.166836\n",
       "Germany    5.763695\n",
       "Name: Population of 7 countries, dtype: float64"
      ]
     },
     "execution_count": 24,
     "metadata": {},
     "output_type": "execute_result"
    }
   ],
   "source": [
    "np.log(C_7_pop)"
   ]
  },
  {
   "cell_type": "code",
   "execution_count": 25,
   "metadata": {},
   "outputs": [
    {
     "data": {
      "text/plain": [
       "np.float64(191.517)"
      ]
     },
     "execution_count": 25,
     "metadata": {},
     "output_type": "execute_result"
    }
   ],
   "source": [
    "C_7_pop['Finland': 'Germany'].mean()"
   ]
  },
  {
   "cell_type": "markdown",
   "metadata": {},
   "source": [
    "## Modifying Series"
   ]
  },
  {
   "cell_type": "code",
   "execution_count": 26,
   "metadata": {},
   "outputs": [],
   "source": [
    "C_7_pop['Finland'] = 430.453"
   ]
  },
  {
   "cell_type": "code",
   "execution_count": 27,
   "metadata": {},
   "outputs": [
    {
     "data": {
      "text/plain": [
       "Andorra     35.467\n",
       "Austria     63.951\n",
       "Belgium     80.940\n",
       "Cyprus      60.665\n",
       "Estonia    127.061\n",
       "Finland    430.453\n",
       "Germany    318.523\n",
       "Name: Population of 7 countries, dtype: float64"
      ]
     },
     "execution_count": 27,
     "metadata": {},
     "output_type": "execute_result"
    }
   ],
   "source": [
    "C_7_pop"
   ]
  },
  {
   "cell_type": "code",
   "execution_count": 28,
   "metadata": {},
   "outputs": [],
   "source": [
    "C_7_pop.iloc[-1] = 500"
   ]
  },
  {
   "cell_type": "code",
   "execution_count": 29,
   "metadata": {},
   "outputs": [
    {
     "data": {
      "text/plain": [
       "Andorra     35.467\n",
       "Austria     63.951\n",
       "Belgium     80.940\n",
       "Cyprus      60.665\n",
       "Estonia    127.061\n",
       "Finland    430.453\n",
       "Germany    500.000\n",
       "Name: Population of 7 countries, dtype: float64"
      ]
     },
     "execution_count": 29,
     "metadata": {},
     "output_type": "execute_result"
    }
   ],
   "source": [
    "C_7_pop"
   ]
  },
  {
   "cell_type": "code",
   "execution_count": 30,
   "metadata": {},
   "outputs": [
    {
     "data": {
      "text/plain": [
       "Andorra    35.467\n",
       "Austria    63.951\n",
       "Belgium    80.940\n",
       "Cyprus     60.665\n",
       "Name: Population of 7 countries, dtype: float64"
      ]
     },
     "execution_count": 30,
     "metadata": {},
     "output_type": "execute_result"
    }
   ],
   "source": [
    "C_7_pop[C_7_pop < 100]"
   ]
  },
  {
   "cell_type": "code",
   "execution_count": 31,
   "metadata": {},
   "outputs": [],
   "source": [
    "C_7_pop[C_7_pop < 100] = 123.231"
   ]
  },
  {
   "cell_type": "code",
   "execution_count": 32,
   "metadata": {},
   "outputs": [
    {
     "data": {
      "text/plain": [
       "Andorra    123.231\n",
       "Austria    123.231\n",
       "Belgium    123.231\n",
       "Cyprus     123.231\n",
       "Estonia    127.061\n",
       "Finland    430.453\n",
       "Germany    500.000\n",
       "Name: Population of 7 countries, dtype: float64"
      ]
     },
     "execution_count": 32,
     "metadata": {},
     "output_type": "execute_result"
    }
   ],
   "source": [
    "C_7_pop"
   ]
  }
 ],
 "metadata": {
  "kernelspec": {
   "display_name": "Python 3",
   "language": "python",
   "name": "python3"
  },
  "language_info": {
   "codemirror_mode": {
    "name": "ipython",
    "version": 3
   },
   "file_extension": ".py",
   "mimetype": "text/x-python",
   "name": "python",
   "nbconvert_exporter": "python",
   "pygments_lexer": "ipython3",
   "version": "3.13.2"
  }
 },
 "nbformat": 4,
 "nbformat_minor": 2
}
