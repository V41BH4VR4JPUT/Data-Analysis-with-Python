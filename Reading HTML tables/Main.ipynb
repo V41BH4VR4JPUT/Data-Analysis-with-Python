{
 "cells": [
  {
   "cell_type": "markdown",
   "metadata": {},
   "source": [
    "# Reading HTML tables"
   ]
  },
  {
   "cell_type": "markdown",
   "metadata": {},
   "source": [
    "*install lxml package*"
   ]
  },
  {
   "cell_type": "code",
   "execution_count": 1,
   "metadata": {},
   "outputs": [],
   "source": [
    "import pandas as pd"
   ]
  },
  {
   "cell_type": "markdown",
   "metadata": {},
   "source": [
    "## parsing raw HTML strings"
   ]
  },
  {
   "cell_type": "markdown",
   "metadata": {},
   "source": [
    "-- using methods like head_html()"
   ]
  },
  {
   "cell_type": "code",
   "execution_count": 2,
   "metadata": {},
   "outputs": [],
   "source": [
    "html_string = \"\"\"\n",
    "<table>\n",
    "    <thead>\n",
    "      <tr>\n",
    "        <th>Order date</th>\n",
    "        <th>Region</th> \n",
    "        <th>Item</th>\n",
    "        <th>Units</th>\n",
    "        <th>Unit cost</th>\n",
    "      </tr>\n",
    "    </thead>\n",
    "    <tbody>\n",
    "      <tr>\n",
    "        <td>1/6/2018</td>\n",
    "        <td>East</td> \n",
    "        <td>Pencil</td>\n",
    "        <td>95</td>\n",
    "        <td>1.99</td>\n",
    "      </tr>\n",
    "      <tr>\n",
    "        <td>1/23/2018</td>\n",
    "        <td>Central</td> \n",
    "        <td>Binder</td>\n",
    "        <td>50</td>\n",
    "        <td>19.99</td>\n",
    "      </tr>\n",
    "      <tr>\n",
    "        <td>2/9/2018</td>\n",
    "        <td>Central</td> \n",
    "        <td>Pencil</td>\n",
    "        <td>36</td>\n",
    "        <td>4.99</td>\n",
    "      </tr>\n",
    "      <tr>\n",
    "        <td>3/15/2018</td>\n",
    "        <td>West</td> \n",
    "        <td>Pen</td>\n",
    "        <td>27</td>\n",
    "        <td>19.99</td>\n",
    "      </tr>\n",
    "    </tbody>\n",
    "</table>\n",
    "\"\"\""
   ]
  },
  {
   "cell_type": "code",
   "execution_count": 3,
   "metadata": {},
   "outputs": [
    {
     "name": "stderr",
     "output_type": "stream",
     "text": [
      "C:\\Users\\Vaibhav\\AppData\\Local\\Temp\\ipykernel_4200\\2234146965.py:1: FutureWarning: Passing literal html to 'read_html' is deprecated and will be removed in a future version. To read from a literal string, wrap it in a 'StringIO' object.\n",
      "  dfs = pd.read_html(html_string)\n"
     ]
    }
   ],
   "source": [
    "dfs = pd.read_html(html_string)"
   ]
  },
  {
   "cell_type": "code",
   "execution_count": 4,
   "metadata": {},
   "outputs": [
    {
     "data": {
      "text/html": [
       "\n",
       "<table>\n",
       "    <thead>\n",
       "      <tr>\n",
       "        <th>Order date</th>\n",
       "        <th>Region</th> \n",
       "        <th>Item</th>\n",
       "        <th>Units</th>\n",
       "        <th>Unit cost</th>\n",
       "      </tr>\n",
       "    </thead>\n",
       "    <tbody>\n",
       "      <tr>\n",
       "        <td>1/6/2018</td>\n",
       "        <td>East</td> \n",
       "        <td>Pencil</td>\n",
       "        <td>95</td>\n",
       "        <td>1.99</td>\n",
       "      </tr>\n",
       "      <tr>\n",
       "        <td>1/23/2018</td>\n",
       "        <td>Central</td> \n",
       "        <td>Binder</td>\n",
       "        <td>50</td>\n",
       "        <td>19.99</td>\n",
       "      </tr>\n",
       "      <tr>\n",
       "        <td>2/9/2018</td>\n",
       "        <td>Central</td> \n",
       "        <td>Pencil</td>\n",
       "        <td>36</td>\n",
       "        <td>4.99</td>\n",
       "      </tr>\n",
       "      <tr>\n",
       "        <td>3/15/2018</td>\n",
       "        <td>West</td> \n",
       "        <td>Pen</td>\n",
       "        <td>27</td>\n",
       "        <td>19.99</td>\n",
       "      </tr>\n",
       "    </tbody>\n",
       "</table>\n"
      ],
      "text/plain": [
       "<IPython.core.display.HTML object>"
      ]
     },
     "metadata": {},
     "output_type": "display_data"
    }
   ],
   "source": [
    "from IPython.display import display, HTML\n",
    "display(HTML(html_string))"
   ]
  },
  {
   "cell_type": "code",
   "execution_count": 5,
   "metadata": {},
   "outputs": [
    {
     "data": {
      "text/plain": [
       "1"
      ]
     },
     "execution_count": 5,
     "metadata": {},
     "output_type": "execute_result"
    }
   ],
   "source": [
    "len(dfs)  # Check how many DataFrames were created"
   ]
  },
  {
   "cell_type": "code",
   "execution_count": 6,
   "metadata": {},
   "outputs": [
    {
     "data": {
      "text/html": [
       "<div>\n",
       "<style scoped>\n",
       "    .dataframe tbody tr th:only-of-type {\n",
       "        vertical-align: middle;\n",
       "    }\n",
       "\n",
       "    .dataframe tbody tr th {\n",
       "        vertical-align: top;\n",
       "    }\n",
       "\n",
       "    .dataframe thead th {\n",
       "        text-align: right;\n",
       "    }\n",
       "</style>\n",
       "<table border=\"1\" class=\"dataframe\">\n",
       "  <thead>\n",
       "    <tr style=\"text-align: right;\">\n",
       "      <th></th>\n",
       "      <th>Order date</th>\n",
       "      <th>Region</th>\n",
       "      <th>Item</th>\n",
       "      <th>Units</th>\n",
       "      <th>Unit cost</th>\n",
       "    </tr>\n",
       "  </thead>\n",
       "  <tbody>\n",
       "    <tr>\n",
       "      <th>0</th>\n",
       "      <td>1/6/2018</td>\n",
       "      <td>East</td>\n",
       "      <td>Pencil</td>\n",
       "      <td>95</td>\n",
       "      <td>1.99</td>\n",
       "    </tr>\n",
       "    <tr>\n",
       "      <th>1</th>\n",
       "      <td>1/23/2018</td>\n",
       "      <td>Central</td>\n",
       "      <td>Binder</td>\n",
       "      <td>50</td>\n",
       "      <td>19.99</td>\n",
       "    </tr>\n",
       "    <tr>\n",
       "      <th>2</th>\n",
       "      <td>2/9/2018</td>\n",
       "      <td>Central</td>\n",
       "      <td>Pencil</td>\n",
       "      <td>36</td>\n",
       "      <td>4.99</td>\n",
       "    </tr>\n",
       "    <tr>\n",
       "      <th>3</th>\n",
       "      <td>3/15/2018</td>\n",
       "      <td>West</td>\n",
       "      <td>Pen</td>\n",
       "      <td>27</td>\n",
       "      <td>19.99</td>\n",
       "    </tr>\n",
       "  </tbody>\n",
       "</table>\n",
       "</div>"
      ],
      "text/plain": [
       "  Order date   Region    Item  Units  Unit cost\n",
       "0   1/6/2018     East  Pencil     95       1.99\n",
       "1  1/23/2018  Central  Binder     50      19.99\n",
       "2   2/9/2018  Central  Pencil     36       4.99\n",
       "3  3/15/2018     West     Pen     27      19.99"
      ]
     },
     "execution_count": 6,
     "metadata": {},
     "output_type": "execute_result"
    }
   ],
   "source": [
    "df = dfs[0]  # Get the first DataFrame\n",
    "df"
   ]
  },
  {
   "cell_type": "code",
   "execution_count": 7,
   "metadata": {},
   "outputs": [
    {
     "data": {
      "text/plain": [
       "(4, 5)"
      ]
     },
     "execution_count": 7,
     "metadata": {},
     "output_type": "execute_result"
    }
   ],
   "source": [
    "df.shape"
   ]
  },
  {
   "cell_type": "code",
   "execution_count": 8,
   "metadata": {},
   "outputs": [
    {
     "data": {
      "text/html": [
       "<div>\n",
       "<style scoped>\n",
       "    .dataframe tbody tr th:only-of-type {\n",
       "        vertical-align: middle;\n",
       "    }\n",
       "\n",
       "    .dataframe tbody tr th {\n",
       "        vertical-align: top;\n",
       "    }\n",
       "\n",
       "    .dataframe thead th {\n",
       "        text-align: right;\n",
       "    }\n",
       "</style>\n",
       "<table border=\"1\" class=\"dataframe\">\n",
       "  <thead>\n",
       "    <tr style=\"text-align: right;\">\n",
       "      <th></th>\n",
       "      <th>Order date</th>\n",
       "      <th>Region</th>\n",
       "      <th>Item</th>\n",
       "      <th>Units</th>\n",
       "      <th>Unit cost</th>\n",
       "    </tr>\n",
       "  </thead>\n",
       "  <tbody>\n",
       "    <tr>\n",
       "      <th>1</th>\n",
       "      <td>1/23/2018</td>\n",
       "      <td>Central</td>\n",
       "      <td>Binder</td>\n",
       "      <td>50</td>\n",
       "      <td>19.99</td>\n",
       "    </tr>\n",
       "    <tr>\n",
       "      <th>2</th>\n",
       "      <td>2/9/2018</td>\n",
       "      <td>Central</td>\n",
       "      <td>Pencil</td>\n",
       "      <td>36</td>\n",
       "      <td>4.99</td>\n",
       "    </tr>\n",
       "  </tbody>\n",
       "</table>\n",
       "</div>"
      ],
      "text/plain": [
       "  Order date   Region    Item  Units  Unit cost\n",
       "1  1/23/2018  Central  Binder     50      19.99\n",
       "2   2/9/2018  Central  Pencil     36       4.99"
      ]
     },
     "execution_count": 8,
     "metadata": {},
     "output_type": "execute_result"
    }
   ],
   "source": [
    "df.loc[df['Region'] == 'Central']"
   ]
  },
  {
   "cell_type": "code",
   "execution_count": 9,
   "metadata": {},
   "outputs": [
    {
     "data": {
      "text/html": [
       "<div>\n",
       "<style scoped>\n",
       "    .dataframe tbody tr th:only-of-type {\n",
       "        vertical-align: middle;\n",
       "    }\n",
       "\n",
       "    .dataframe tbody tr th {\n",
       "        vertical-align: top;\n",
       "    }\n",
       "\n",
       "    .dataframe thead th {\n",
       "        text-align: right;\n",
       "    }\n",
       "</style>\n",
       "<table border=\"1\" class=\"dataframe\">\n",
       "  <thead>\n",
       "    <tr style=\"text-align: right;\">\n",
       "      <th></th>\n",
       "      <th>Order date</th>\n",
       "      <th>Region</th>\n",
       "      <th>Item</th>\n",
       "      <th>Units</th>\n",
       "      <th>Unit cost</th>\n",
       "    </tr>\n",
       "  </thead>\n",
       "  <tbody>\n",
       "    <tr>\n",
       "      <th>0</th>\n",
       "      <td>1/6/2018</td>\n",
       "      <td>East</td>\n",
       "      <td>Pencil</td>\n",
       "      <td>95</td>\n",
       "      <td>1.99</td>\n",
       "    </tr>\n",
       "    <tr>\n",
       "      <th>1</th>\n",
       "      <td>1/23/2018</td>\n",
       "      <td>Central</td>\n",
       "      <td>Binder</td>\n",
       "      <td>50</td>\n",
       "      <td>19.99</td>\n",
       "    </tr>\n",
       "    <tr>\n",
       "      <th>2</th>\n",
       "      <td>2/9/2018</td>\n",
       "      <td>Central</td>\n",
       "      <td>Pencil</td>\n",
       "      <td>36</td>\n",
       "      <td>4.99</td>\n",
       "    </tr>\n",
       "  </tbody>\n",
       "</table>\n",
       "</div>"
      ],
      "text/plain": [
       "  Order date   Region    Item  Units  Unit cost\n",
       "0   1/6/2018     East  Pencil     95       1.99\n",
       "1  1/23/2018  Central  Binder     50      19.99\n",
       "2   2/9/2018  Central  Pencil     36       4.99"
      ]
     },
     "execution_count": 9,
     "metadata": {},
     "output_type": "execute_result"
    }
   ],
   "source": [
    "df.loc[df['Units'] > 35]"
   ]
  },
  {
   "cell_type": "markdown",
   "metadata": {},
   "source": [
    "## Defining header"
   ]
  },
  {
   "cell_type": "markdown",
   "metadata": {},
   "source": [
    "- pandas will automatically find the header to use thanks to the tag"
   ]
  },
  {
   "cell_type": "code",
   "execution_count": 10,
   "metadata": {},
   "outputs": [],
   "source": [
    "html_string = \"\"\"\n",
    "<table>\n",
    "  <tr>\n",
    "    <td>Order date</td>\n",
    "    <td>Region</td> \n",
    "    <td>Item</td>\n",
    "    <td>Units</td>\n",
    "    <td>Unit cost</td>\n",
    "  </tr>\n",
    "  <tr>\n",
    "    <td>1/6/2018</td>\n",
    "    <td>East</td> \n",
    "    <td>Pencil</td>\n",
    "    <td>95</td>\n",
    "    <td>1.99</td>\n",
    "  </tr>\n",
    "  <tr>\n",
    "    <td>1/23/2018</td>\n",
    "    <td>Central</td> \n",
    "    <td>Binder</td>\n",
    "    <td>50</td>\n",
    "    <td>19.99</td>\n",
    "  </tr>\n",
    "  <tr>\n",
    "    <td>2/9/2018</td>\n",
    "    <td>Central</td> \n",
    "    <td>Pencil</td>\n",
    "    <td>36</td>\n",
    "    <td>4.99</td>\n",
    "  </tr>\n",
    "  <tr>\n",
    "    <td>3/15/2018</td>\n",
    "    <td>West</td> \n",
    "    <td>Pen</td>\n",
    "    <td>27</td>\n",
    "    <td>19.99</td>\n",
    "  </tr>\n",
    "</table>\n",
    "\"\"\""
   ]
  },
  {
   "cell_type": "code",
   "execution_count": 11,
   "metadata": {},
   "outputs": [
    {
     "name": "stderr",
     "output_type": "stream",
     "text": [
      "C:\\Users\\Vaibhav\\AppData\\Local\\Temp\\ipykernel_4200\\518561479.py:1: FutureWarning: Passing literal html to 'read_html' is deprecated and will be removed in a future version. To read from a literal string, wrap it in a 'StringIO' object.\n",
      "  pd.read_html(html_string)[0]  # Use the first row as the header\n"
     ]
    },
    {
     "data": {
      "text/html": [
       "<div>\n",
       "<style scoped>\n",
       "    .dataframe tbody tr th:only-of-type {\n",
       "        vertical-align: middle;\n",
       "    }\n",
       "\n",
       "    .dataframe tbody tr th {\n",
       "        vertical-align: top;\n",
       "    }\n",
       "\n",
       "    .dataframe thead th {\n",
       "        text-align: right;\n",
       "    }\n",
       "</style>\n",
       "<table border=\"1\" class=\"dataframe\">\n",
       "  <thead>\n",
       "    <tr style=\"text-align: right;\">\n",
       "      <th></th>\n",
       "      <th>0</th>\n",
       "      <th>1</th>\n",
       "      <th>2</th>\n",
       "      <th>3</th>\n",
       "      <th>4</th>\n",
       "    </tr>\n",
       "  </thead>\n",
       "  <tbody>\n",
       "    <tr>\n",
       "      <th>0</th>\n",
       "      <td>Order date</td>\n",
       "      <td>Region</td>\n",
       "      <td>Item</td>\n",
       "      <td>Units</td>\n",
       "      <td>Unit cost</td>\n",
       "    </tr>\n",
       "    <tr>\n",
       "      <th>1</th>\n",
       "      <td>1/6/2018</td>\n",
       "      <td>East</td>\n",
       "      <td>Pencil</td>\n",
       "      <td>95</td>\n",
       "      <td>1.99</td>\n",
       "    </tr>\n",
       "    <tr>\n",
       "      <th>2</th>\n",
       "      <td>1/23/2018</td>\n",
       "      <td>Central</td>\n",
       "      <td>Binder</td>\n",
       "      <td>50</td>\n",
       "      <td>19.99</td>\n",
       "    </tr>\n",
       "    <tr>\n",
       "      <th>3</th>\n",
       "      <td>2/9/2018</td>\n",
       "      <td>Central</td>\n",
       "      <td>Pencil</td>\n",
       "      <td>36</td>\n",
       "      <td>4.99</td>\n",
       "    </tr>\n",
       "    <tr>\n",
       "      <th>4</th>\n",
       "      <td>3/15/2018</td>\n",
       "      <td>West</td>\n",
       "      <td>Pen</td>\n",
       "      <td>27</td>\n",
       "      <td>19.99</td>\n",
       "    </tr>\n",
       "  </tbody>\n",
       "</table>\n",
       "</div>"
      ],
      "text/plain": [
       "            0        1       2      3          4\n",
       "0  Order date   Region    Item  Units  Unit cost\n",
       "1    1/6/2018     East  Pencil     95       1.99\n",
       "2   1/23/2018  Central  Binder     50      19.99\n",
       "3    2/9/2018  Central  Pencil     36       4.99\n",
       "4   3/15/2018     West     Pen     27      19.99"
      ]
     },
     "execution_count": 11,
     "metadata": {},
     "output_type": "execute_result"
    }
   ],
   "source": [
    "pd.read_html(html_string)[0]  # Use the first row as the header"
   ]
  },
  {
   "cell_type": "code",
   "execution_count": 12,
   "metadata": {},
   "outputs": [
    {
     "name": "stderr",
     "output_type": "stream",
     "text": [
      "C:\\Users\\Vaibhav\\AppData\\Local\\Temp\\ipykernel_4200\\3156000096.py:1: FutureWarning: Passing literal html to 'read_html' is deprecated and will be removed in a future version. To read from a literal string, wrap it in a 'StringIO' object.\n",
      "  pd.read_html(html_string, header=0)[0]\n"
     ]
    },
    {
     "data": {
      "text/html": [
       "<div>\n",
       "<style scoped>\n",
       "    .dataframe tbody tr th:only-of-type {\n",
       "        vertical-align: middle;\n",
       "    }\n",
       "\n",
       "    .dataframe tbody tr th {\n",
       "        vertical-align: top;\n",
       "    }\n",
       "\n",
       "    .dataframe thead th {\n",
       "        text-align: right;\n",
       "    }\n",
       "</style>\n",
       "<table border=\"1\" class=\"dataframe\">\n",
       "  <thead>\n",
       "    <tr style=\"text-align: right;\">\n",
       "      <th></th>\n",
       "      <th>Order date</th>\n",
       "      <th>Region</th>\n",
       "      <th>Item</th>\n",
       "      <th>Units</th>\n",
       "      <th>Unit cost</th>\n",
       "    </tr>\n",
       "  </thead>\n",
       "  <tbody>\n",
       "    <tr>\n",
       "      <th>0</th>\n",
       "      <td>1/6/2018</td>\n",
       "      <td>East</td>\n",
       "      <td>Pencil</td>\n",
       "      <td>95</td>\n",
       "      <td>1.99</td>\n",
       "    </tr>\n",
       "    <tr>\n",
       "      <th>1</th>\n",
       "      <td>1/23/2018</td>\n",
       "      <td>Central</td>\n",
       "      <td>Binder</td>\n",
       "      <td>50</td>\n",
       "      <td>19.99</td>\n",
       "    </tr>\n",
       "    <tr>\n",
       "      <th>2</th>\n",
       "      <td>2/9/2018</td>\n",
       "      <td>Central</td>\n",
       "      <td>Pencil</td>\n",
       "      <td>36</td>\n",
       "      <td>4.99</td>\n",
       "    </tr>\n",
       "    <tr>\n",
       "      <th>3</th>\n",
       "      <td>3/15/2018</td>\n",
       "      <td>West</td>\n",
       "      <td>Pen</td>\n",
       "      <td>27</td>\n",
       "      <td>19.99</td>\n",
       "    </tr>\n",
       "  </tbody>\n",
       "</table>\n",
       "</div>"
      ],
      "text/plain": [
       "  Order date   Region    Item  Units  Unit cost\n",
       "0   1/6/2018     East  Pencil     95       1.99\n",
       "1  1/23/2018  Central  Binder     50      19.99\n",
       "2   2/9/2018  Central  Pencil     36       4.99\n",
       "3  3/15/2018     West     Pen     27      19.99"
      ]
     },
     "execution_count": 12,
     "metadata": {},
     "output_type": "execute_result"
    }
   ],
   "source": [
    "pd.read_html(html_string, header=0)[0]"
   ]
  },
  {
   "cell_type": "markdown",
   "metadata": {},
   "source": [
    "## Parsing HTML tables from the web "
   ]
  },
  {
   "cell_type": "code",
   "execution_count": 13,
   "metadata": {},
   "outputs": [],
   "source": [
    "html_url = \"https://www.basketball-reference.com/leagues/NBA_2019_per_game.html\""
   ]
  },
  {
   "cell_type": "code",
   "execution_count": 14,
   "metadata": {},
   "outputs": [],
   "source": [
    "nba_tables = pd.read_html(html_url)"
   ]
  },
  {
   "cell_type": "code",
   "execution_count": 15,
   "metadata": {},
   "outputs": [
    {
     "data": {
      "text/plain": [
       "2"
      ]
     },
     "execution_count": 15,
     "metadata": {},
     "output_type": "execute_result"
    }
   ],
   "source": [
    "len(nba_tables)  # Check how many DataFrames were created"
   ]
  },
  {
   "cell_type": "code",
   "execution_count": 16,
   "metadata": {},
   "outputs": [],
   "source": [
    "nba = nba_tables[0]  # Get the first DataFrame"
   ]
  },
  {
   "cell_type": "code",
   "execution_count": 17,
   "metadata": {},
   "outputs": [
    {
     "data": {
      "text/html": [
       "<div>\n",
       "<style scoped>\n",
       "    .dataframe tbody tr th:only-of-type {\n",
       "        vertical-align: middle;\n",
       "    }\n",
       "\n",
       "    .dataframe tbody tr th {\n",
       "        vertical-align: top;\n",
       "    }\n",
       "\n",
       "    .dataframe thead th {\n",
       "        text-align: right;\n",
       "    }\n",
       "</style>\n",
       "<table border=\"1\" class=\"dataframe\">\n",
       "  <thead>\n",
       "    <tr style=\"text-align: right;\">\n",
       "      <th></th>\n",
       "      <th>Rk</th>\n",
       "      <th>Player</th>\n",
       "      <th>Age</th>\n",
       "      <th>Team</th>\n",
       "      <th>Pos</th>\n",
       "      <th>G</th>\n",
       "      <th>GS</th>\n",
       "      <th>MP</th>\n",
       "      <th>FG</th>\n",
       "      <th>FGA</th>\n",
       "      <th>...</th>\n",
       "      <th>ORB</th>\n",
       "      <th>DRB</th>\n",
       "      <th>TRB</th>\n",
       "      <th>AST</th>\n",
       "      <th>STL</th>\n",
       "      <th>BLK</th>\n",
       "      <th>TOV</th>\n",
       "      <th>PF</th>\n",
       "      <th>PTS</th>\n",
       "      <th>Awards</th>\n",
       "    </tr>\n",
       "  </thead>\n",
       "  <tbody>\n",
       "    <tr>\n",
       "      <th>0</th>\n",
       "      <td>1.0</td>\n",
       "      <td>James Harden</td>\n",
       "      <td>29.0</td>\n",
       "      <td>HOU</td>\n",
       "      <td>PG</td>\n",
       "      <td>78.0</td>\n",
       "      <td>78.0</td>\n",
       "      <td>36.8</td>\n",
       "      <td>10.8</td>\n",
       "      <td>24.5</td>\n",
       "      <td>...</td>\n",
       "      <td>0.8</td>\n",
       "      <td>5.8</td>\n",
       "      <td>6.6</td>\n",
       "      <td>7.5</td>\n",
       "      <td>2.0</td>\n",
       "      <td>0.7</td>\n",
       "      <td>5.0</td>\n",
       "      <td>3.1</td>\n",
       "      <td>36.1</td>\n",
       "      <td>MVP-2,AS,NBA1</td>\n",
       "    </tr>\n",
       "    <tr>\n",
       "      <th>1</th>\n",
       "      <td>2.0</td>\n",
       "      <td>Paul George</td>\n",
       "      <td>28.0</td>\n",
       "      <td>OKC</td>\n",
       "      <td>SF</td>\n",
       "      <td>77.0</td>\n",
       "      <td>77.0</td>\n",
       "      <td>36.9</td>\n",
       "      <td>9.2</td>\n",
       "      <td>21.0</td>\n",
       "      <td>...</td>\n",
       "      <td>1.4</td>\n",
       "      <td>6.8</td>\n",
       "      <td>8.2</td>\n",
       "      <td>4.1</td>\n",
       "      <td>2.2</td>\n",
       "      <td>0.4</td>\n",
       "      <td>2.7</td>\n",
       "      <td>2.8</td>\n",
       "      <td>28.0</td>\n",
       "      <td>MVP-3,DPOY-3,AS,NBA1</td>\n",
       "    </tr>\n",
       "    <tr>\n",
       "      <th>2</th>\n",
       "      <td>3.0</td>\n",
       "      <td>Giannis Antetokounmpo</td>\n",
       "      <td>24.0</td>\n",
       "      <td>MIL</td>\n",
       "      <td>PF</td>\n",
       "      <td>72.0</td>\n",
       "      <td>72.0</td>\n",
       "      <td>32.8</td>\n",
       "      <td>10.0</td>\n",
       "      <td>17.3</td>\n",
       "      <td>...</td>\n",
       "      <td>2.2</td>\n",
       "      <td>10.3</td>\n",
       "      <td>12.5</td>\n",
       "      <td>5.9</td>\n",
       "      <td>1.3</td>\n",
       "      <td>1.5</td>\n",
       "      <td>3.7</td>\n",
       "      <td>3.2</td>\n",
       "      <td>27.7</td>\n",
       "      <td>MVP-1,DPOY-2,AS,NBA1</td>\n",
       "    </tr>\n",
       "    <tr>\n",
       "      <th>3</th>\n",
       "      <td>4.0</td>\n",
       "      <td>Joel Embiid</td>\n",
       "      <td>24.0</td>\n",
       "      <td>PHI</td>\n",
       "      <td>C</td>\n",
       "      <td>64.0</td>\n",
       "      <td>64.0</td>\n",
       "      <td>33.7</td>\n",
       "      <td>9.1</td>\n",
       "      <td>18.7</td>\n",
       "      <td>...</td>\n",
       "      <td>2.5</td>\n",
       "      <td>11.1</td>\n",
       "      <td>13.6</td>\n",
       "      <td>3.7</td>\n",
       "      <td>0.7</td>\n",
       "      <td>1.9</td>\n",
       "      <td>3.5</td>\n",
       "      <td>3.3</td>\n",
       "      <td>27.5</td>\n",
       "      <td>MVP-7,DPOY-4,AS,NBA2</td>\n",
       "    </tr>\n",
       "    <tr>\n",
       "      <th>4</th>\n",
       "      <td>5.0</td>\n",
       "      <td>LeBron James</td>\n",
       "      <td>34.0</td>\n",
       "      <td>LAL</td>\n",
       "      <td>SF</td>\n",
       "      <td>55.0</td>\n",
       "      <td>55.0</td>\n",
       "      <td>35.2</td>\n",
       "      <td>10.1</td>\n",
       "      <td>19.9</td>\n",
       "      <td>...</td>\n",
       "      <td>1.0</td>\n",
       "      <td>7.4</td>\n",
       "      <td>8.5</td>\n",
       "      <td>8.3</td>\n",
       "      <td>1.3</td>\n",
       "      <td>0.6</td>\n",
       "      <td>3.6</td>\n",
       "      <td>1.7</td>\n",
       "      <td>27.4</td>\n",
       "      <td>MVP-11,AS,NBA3</td>\n",
       "    </tr>\n",
       "  </tbody>\n",
       "</table>\n",
       "<p>5 rows × 31 columns</p>\n",
       "</div>"
      ],
      "text/plain": [
       "    Rk                 Player   Age Team Pos     G    GS    MP    FG   FGA  \\\n",
       "0  1.0           James Harden  29.0  HOU  PG  78.0  78.0  36.8  10.8  24.5   \n",
       "1  2.0            Paul George  28.0  OKC  SF  77.0  77.0  36.9   9.2  21.0   \n",
       "2  3.0  Giannis Antetokounmpo  24.0  MIL  PF  72.0  72.0  32.8  10.0  17.3   \n",
       "3  4.0            Joel Embiid  24.0  PHI   C  64.0  64.0  33.7   9.1  18.7   \n",
       "4  5.0           LeBron James  34.0  LAL  SF  55.0  55.0  35.2  10.1  19.9   \n",
       "\n",
       "   ...  ORB   DRB   TRB  AST  STL  BLK  TOV   PF   PTS                Awards  \n",
       "0  ...  0.8   5.8   6.6  7.5  2.0  0.7  5.0  3.1  36.1         MVP-2,AS,NBA1  \n",
       "1  ...  1.4   6.8   8.2  4.1  2.2  0.4  2.7  2.8  28.0  MVP-3,DPOY-3,AS,NBA1  \n",
       "2  ...  2.2  10.3  12.5  5.9  1.3  1.5  3.7  3.2  27.7  MVP-1,DPOY-2,AS,NBA1  \n",
       "3  ...  2.5  11.1  13.6  3.7  0.7  1.9  3.5  3.3  27.5  MVP-7,DPOY-4,AS,NBA2  \n",
       "4  ...  1.0   7.4   8.5  8.3  1.3  0.6  3.6  1.7  27.4        MVP-11,AS,NBA3  \n",
       "\n",
       "[5 rows x 31 columns]"
      ]
     },
     "execution_count": 17,
     "metadata": {},
     "output_type": "execute_result"
    }
   ],
   "source": [
    "nba.head()"
   ]
  },
  {
   "cell_type": "markdown",
   "metadata": {},
   "source": [
    "### Complex Example\n",
    "- We can also use the Requests module to get HTML codes from URL to parse into a DataFrame object"
   ]
  },
  {
   "cell_type": "code",
   "execution_count": 18,
   "metadata": {},
   "outputs": [],
   "source": [
    "import requests\n",
    "\n",
    "html_url = \"https://en.wikipedia.org/wiki/The_Simpsons\""
   ]
  },
  {
   "cell_type": "code",
   "execution_count": 19,
   "metadata": {},
   "outputs": [
    {
     "name": "stderr",
     "output_type": "stream",
     "text": [
      "C:\\Users\\Vaibhav\\AppData\\Local\\Temp\\ipykernel_4200\\2645367999.py:2: FutureWarning: Passing literal html to 'read_html' is deprecated and will be removed in a future version. To read from a literal string, wrap it in a 'StringIO' object.\n",
      "  wiki_tables = pd.read_html(r.text, header=0)\n"
     ]
    }
   ],
   "source": [
    "r = requests.get(html_url)\n",
    "wiki_tables = pd.read_html(r.text, header=0)"
   ]
  },
  {
   "cell_type": "code",
   "execution_count": 20,
   "metadata": {},
   "outputs": [
    {
     "data": {
      "text/plain": [
       "49"
      ]
     },
     "execution_count": 20,
     "metadata": {},
     "output_type": "execute_result"
    }
   ],
   "source": [
    "len(wiki_tables)  # Check how many DataFrames were created"
   ]
  },
  {
   "cell_type": "code",
   "execution_count": 21,
   "metadata": {},
   "outputs": [],
   "source": [
    "simpsons = wiki_tables[1]  # Get the first DataFrame"
   ]
  },
  {
   "cell_type": "code",
   "execution_count": 22,
   "metadata": {},
   "outputs": [
    {
     "data": {
      "text/html": [
       "<div>\n",
       "<style scoped>\n",
       "    .dataframe tbody tr th:only-of-type {\n",
       "        vertical-align: middle;\n",
       "    }\n",
       "\n",
       "    .dataframe tbody tr th {\n",
       "        vertical-align: top;\n",
       "    }\n",
       "\n",
       "    .dataframe thead th {\n",
       "        text-align: right;\n",
       "    }\n",
       "</style>\n",
       "<table border=\"1\" class=\"dataframe\">\n",
       "  <thead>\n",
       "    <tr style=\"text-align: right;\">\n",
       "      <th></th>\n",
       "      <th>Cast members</th>\n",
       "      <th>Cast members.1</th>\n",
       "      <th>Cast members.2</th>\n",
       "      <th>Cast members.3</th>\n",
       "      <th>Cast members.4</th>\n",
       "      <th>Cast members.5</th>\n",
       "      <th>Cast members.6</th>\n",
       "      <th>Cast members.7</th>\n",
       "      <th>Cast members.8</th>\n",
       "    </tr>\n",
       "  </thead>\n",
       "  <tbody>\n",
       "    <tr>\n",
       "      <th>0</th>\n",
       "      <td>NaN</td>\n",
       "      <td>NaN</td>\n",
       "      <td>NaN</td>\n",
       "      <td>NaN</td>\n",
       "      <td>NaN</td>\n",
       "      <td>NaN</td>\n",
       "      <td>NaN</td>\n",
       "      <td>NaN</td>\n",
       "      <td>NaN</td>\n",
       "    </tr>\n",
       "    <tr>\n",
       "      <th>1</th>\n",
       "      <td>Dan Castellaneta</td>\n",
       "      <td>Julie Kavner</td>\n",
       "      <td>Nancy Cartwright</td>\n",
       "      <td>Yeardley Smith</td>\n",
       "      <td>Hank Azaria</td>\n",
       "      <td>Harry Shearer</td>\n",
       "      <td>NaN</td>\n",
       "      <td>NaN</td>\n",
       "      <td>NaN</td>\n",
       "    </tr>\n",
       "    <tr>\n",
       "      <th>2</th>\n",
       "      <td>Homer Simpson, Abe Simpson, Krusty the Clown, ...</td>\n",
       "      <td>Marge Simpson, Patty and Selma Bouvier, additi...</td>\n",
       "      <td>Bart Simpson, Maggie Simpson, Nelson Muntz, va...</td>\n",
       "      <td>Lisa Simpson</td>\n",
       "      <td>Moe Szyslak, Chief Wiggum, Apu Nahasapeemapeti...</td>\n",
       "      <td>Ned Flanders, Mr. Burns, Dr. Hibbert (1990–202...</td>\n",
       "      <td>NaN</td>\n",
       "      <td>NaN</td>\n",
       "      <td>NaN</td>\n",
       "    </tr>\n",
       "  </tbody>\n",
       "</table>\n",
       "</div>"
      ],
      "text/plain": [
       "                                        Cast members  \\\n",
       "0                                                NaN   \n",
       "1                                   Dan Castellaneta   \n",
       "2  Homer Simpson, Abe Simpson, Krusty the Clown, ...   \n",
       "\n",
       "                                      Cast members.1  \\\n",
       "0                                                NaN   \n",
       "1                                       Julie Kavner   \n",
       "2  Marge Simpson, Patty and Selma Bouvier, additi...   \n",
       "\n",
       "                                      Cast members.2  Cast members.3  \\\n",
       "0                                                NaN             NaN   \n",
       "1                                   Nancy Cartwright  Yeardley Smith   \n",
       "2  Bart Simpson, Maggie Simpson, Nelson Muntz, va...    Lisa Simpson   \n",
       "\n",
       "                                      Cast members.4  \\\n",
       "0                                                NaN   \n",
       "1                                        Hank Azaria   \n",
       "2  Moe Szyslak, Chief Wiggum, Apu Nahasapeemapeti...   \n",
       "\n",
       "                                      Cast members.5  Cast members.6  \\\n",
       "0                                                NaN             NaN   \n",
       "1                                      Harry Shearer             NaN   \n",
       "2  Ned Flanders, Mr. Burns, Dr. Hibbert (1990–202...             NaN   \n",
       "\n",
       "   Cast members.7  Cast members.8  \n",
       "0             NaN             NaN  \n",
       "1             NaN             NaN  \n",
       "2             NaN             NaN  "
      ]
     },
     "execution_count": 22,
     "metadata": {},
     "output_type": "execute_result"
    }
   ],
   "source": [
    "simpsons.head()"
   ]
  },
  {
   "cell_type": "code",
   "execution_count": 23,
   "metadata": {},
   "outputs": [],
   "source": [
    "simpsons.drop([0,1], inplace=True)  # Drop the first two rows"
   ]
  }
 ],
 "metadata": {
  "kernelspec": {
   "display_name": "Python 3",
   "language": "python",
   "name": "python3"
  },
  "language_info": {
   "codemirror_mode": {
    "name": "ipython",
    "version": 3
   },
   "file_extension": ".py",
   "mimetype": "text/x-python",
   "name": "python",
   "nbconvert_exporter": "python",
   "pygments_lexer": "ipython3",
   "version": "3.13.2"
  }
 },
 "nbformat": 4,
 "nbformat_minor": 2
}
